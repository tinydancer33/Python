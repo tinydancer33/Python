{
 "cells": [
  {
   "cell_type": "code",
   "execution_count": 1,
   "metadata": {},
   "outputs": [],
   "source": [
    "import pandas as pd\n",
    "import numpy as np\n",
    "\n",
    "import statsmodels.formula.api as smf\n",
    "from statsmodels.api import families"
   ]
  },
  {
   "cell_type": "code",
   "execution_count": 4,
   "metadata": {},
   "outputs": [],
   "source": [
    "MyData = pd.read_csv('Assign8Q6.csv')"
   ]
  },
  {
   "cell_type": "code",
   "execution_count": 5,
   "metadata": {},
   "outputs": [
    {
     "data": {
      "text/html": [
       "<div>\n",
       "<style scoped>\n",
       "    .dataframe tbody tr th:only-of-type {\n",
       "        vertical-align: middle;\n",
       "    }\n",
       "\n",
       "    .dataframe tbody tr th {\n",
       "        vertical-align: top;\n",
       "    }\n",
       "\n",
       "    .dataframe thead th {\n",
       "        text-align: right;\n",
       "    }\n",
       "</style>\n",
       "<table border=\"1\" class=\"dataframe\">\n",
       "  <thead>\n",
       "    <tr style=\"text-align: right;\">\n",
       "      <th></th>\n",
       "      <th>y</th>\n",
       "      <th>x1</th>\n",
       "      <th>x2</th>\n",
       "    </tr>\n",
       "  </thead>\n",
       "  <tbody>\n",
       "    <tr>\n",
       "      <th>0</th>\n",
       "      <td>1</td>\n",
       "      <td>38.62</td>\n",
       "      <td>9.88</td>\n",
       "    </tr>\n",
       "    <tr>\n",
       "      <th>1</th>\n",
       "      <td>1</td>\n",
       "      <td>71.51</td>\n",
       "      <td>9.14</td>\n",
       "    </tr>\n",
       "    <tr>\n",
       "      <th>2</th>\n",
       "      <td>0</td>\n",
       "      <td>57.55</td>\n",
       "      <td>19.11</td>\n",
       "    </tr>\n",
       "    <tr>\n",
       "      <th>3</th>\n",
       "      <td>1</td>\n",
       "      <td>52.04</td>\n",
       "      <td>19.14</td>\n",
       "    </tr>\n",
       "    <tr>\n",
       "      <th>4</th>\n",
       "      <td>1</td>\n",
       "      <td>79.54</td>\n",
       "      <td>19.74</td>\n",
       "    </tr>\n",
       "  </tbody>\n",
       "</table>\n",
       "</div>"
      ],
      "text/plain": [
       "   y     x1     x2\n",
       "0  1  38.62   9.88\n",
       "1  1  71.51   9.14\n",
       "2  0  57.55  19.11\n",
       "3  1  52.04  19.14\n",
       "4  1  79.54  19.74"
      ]
     },
     "execution_count": 5,
     "metadata": {},
     "output_type": "execute_result"
    }
   ],
   "source": [
    "MyData.head()"
   ]
  },
  {
   "cell_type": "code",
   "execution_count": 6,
   "metadata": {},
   "outputs": [
    {
     "data": {
      "text/html": [
       "<table class=\"simpletable\">\n",
       "<tr>\n",
       "        <td>Model:</td>               <td>OLS</td>         <td>Adj. R-squared:</td>    <td>0.356</td> \n",
       "</tr>\n",
       "<tr>\n",
       "  <td>Dependent Variable:</td>         <td>y</td>               <td>AIC:</td>         <td>23.7938</td>\n",
       "</tr>\n",
       "<tr>\n",
       "         <td>Date:</td>        <td>2021-03-24 22:59</td>        <td>BIC:</td>         <td>26.7810</td>\n",
       "</tr>\n",
       "<tr>\n",
       "   <td>No. Observations:</td>         <td>20</td>          <td>Log-Likelihood:</td>   <td>-8.8969</td>\n",
       "</tr>\n",
       "<tr>\n",
       "       <td>Df Model:</td>              <td>2</td>           <td>F-statistic:</td>      <td>6.260</td> \n",
       "</tr>\n",
       "<tr>\n",
       "     <td>Df Residuals:</td>           <td>17</td>        <td>Prob (F-statistic):</td> <td>0.00918</td>\n",
       "</tr>\n",
       "<tr>\n",
       "      <td>R-squared:</td>            <td>0.424</td>            <td>Scale:</td>        <td>0.16768</td>\n",
       "</tr>\n",
       "</table>\n",
       "<table class=\"simpletable\">\n",
       "<tr>\n",
       "      <td></td>       <th>Coef.</th>  <th>Std.Err.</th>    <th>t</th>     <th>P>|t|</th> <th>[0.025</th>  <th>0.975]</th> \n",
       "</tr>\n",
       "<tr>\n",
       "  <th>Intercept</th> <td>0.5395</td>   <td>0.4855</td>  <td>1.1113</td>  <td>0.2819</td> <td>-0.4848</td> <td>1.5637</td> \n",
       "</tr>\n",
       "<tr>\n",
       "  <th>x1</th>        <td>0.0163</td>   <td>0.0078</td>  <td>2.0893</td>  <td>0.0520</td> <td>-0.0002</td> <td>0.0328</td> \n",
       "</tr>\n",
       "<tr>\n",
       "  <th>x2</th>        <td>-0.0551</td>  <td>0.0172</td>  <td>-3.1949</td> <td>0.0053</td> <td>-0.0915</td> <td>-0.0187</td>\n",
       "</tr>\n",
       "</table>\n",
       "<table class=\"simpletable\">\n",
       "<tr>\n",
       "     <td>Omnibus:</td>    <td>0.727</td>  <td>Durbin-Watson:</td>   <td>1.966</td>\n",
       "</tr>\n",
       "<tr>\n",
       "  <td>Prob(Omnibus):</td> <td>0.695</td> <td>Jarque-Bera (JB):</td> <td>0.659</td>\n",
       "</tr>\n",
       "<tr>\n",
       "       <td>Skew:</td>     <td>0.002</td>     <td>Prob(JB):</td>     <td>0.719</td>\n",
       "</tr>\n",
       "<tr>\n",
       "     <td>Kurtosis:</td>   <td>2.111</td>  <td>Condition No.:</td>    <td>317</td> \n",
       "</tr>\n",
       "</table>"
      ],
      "text/plain": [
       "<class 'statsmodels.iolib.summary2.Summary'>\n",
       "\"\"\"\n",
       "                Results: Ordinary least squares\n",
       "================================================================\n",
       "Model:              OLS              Adj. R-squared:     0.356  \n",
       "Dependent Variable: y                AIC:                23.7938\n",
       "Date:               2021-03-24 22:59 BIC:                26.7810\n",
       "No. Observations:   20               Log-Likelihood:     -8.8969\n",
       "Df Model:           2                F-statistic:        6.260  \n",
       "Df Residuals:       17               Prob (F-statistic): 0.00918\n",
       "R-squared:          0.424            Scale:              0.16768\n",
       "-----------------------------------------------------------------\n",
       "              Coef.   Std.Err.     t     P>|t|    [0.025   0.975]\n",
       "-----------------------------------------------------------------\n",
       "Intercept     0.5395    0.4855   1.1113  0.2819  -0.4848   1.5637\n",
       "x1            0.0163    0.0078   2.0893  0.0520  -0.0002   0.0328\n",
       "x2           -0.0551    0.0172  -3.1949  0.0053  -0.0915  -0.0187\n",
       "----------------------------------------------------------------\n",
       "Omnibus:               0.727       Durbin-Watson:          1.966\n",
       "Prob(Omnibus):         0.695       Jarque-Bera (JB):       0.659\n",
       "Skew:                  0.002       Prob(JB):               0.719\n",
       "Kurtosis:              2.111       Condition No.:          317  \n",
       "================================================================\n",
       "\n",
       "\"\"\""
      ]
     },
     "execution_count": 6,
     "metadata": {},
     "output_type": "execute_result"
    }
   ],
   "source": [
    "LinModel = smf.ols(formula = 'y ~ x1 + x2', data = MyData).fit()\n",
    "LinModel.summary2()"
   ]
  },
  {
   "cell_type": "code",
   "execution_count": 12,
   "metadata": {},
   "outputs": [
    {
     "data": {
      "text/html": [
       "<table class=\"simpletable\">\n",
       "<tr>\n",
       "        <td>Model:</td>               <td>GLM</td>            <td>AIC:</td>        <td>22.2849</td>\n",
       "</tr>\n",
       "<tr>\n",
       "    <td>Link Function:</td>          <td>logit</td>           <td>BIC:</td>       <td>-34.6425</td>\n",
       "</tr>\n",
       "<tr>\n",
       "  <td>Dependent Variable:</td>         <td>y</td>        <td>Log-Likelihood:</td>  <td>-8.1425</td>\n",
       "</tr>\n",
       "<tr>\n",
       "         <td>Date:</td>        <td>2021-03-24 23:12</td>    <td>LL-Null:</td>      <td>-13.763</td>\n",
       "</tr>\n",
       "<tr>\n",
       "   <td>No. Observations:</td>         <td>20</td>           <td>Deviance:</td>     <td>16.285</td> \n",
       "</tr>\n",
       "<tr>\n",
       "       <td>Df Model:</td>              <td>2</td>         <td>Pearson chi2:</td>    <td>15.2</td>  \n",
       "</tr>\n",
       "<tr>\n",
       "     <td>Df Residuals:</td>           <td>17</td>            <td>Scale:</td>       <td>1.0000</td> \n",
       "</tr>\n",
       "<tr>\n",
       "        <td>Method:</td>             <td>IRLS</td>              <td></td>             <td></td>    \n",
       "</tr>\n",
       "</table>\n",
       "<table class=\"simpletable\">\n",
       "<tr>\n",
       "      <td></td>       <th>Coef.</th>  <th>Std.Err.</th>    <th>z</th>     <th>P>|z|</th> <th>[0.025</th>  <th>0.975]</th> \n",
       "</tr>\n",
       "<tr>\n",
       "  <th>Intercept</th> <td>-1.0196</td>  <td>3.1112</td>  <td>-0.3277</td> <td>0.7431</td> <td>-7.1174</td> <td>5.0782</td> \n",
       "</tr>\n",
       "<tr>\n",
       "  <th>x1</th>        <td>0.1437</td>   <td>0.0821</td>  <td>1.7501</td>  <td>0.0801</td> <td>-0.0172</td> <td>0.3046</td> \n",
       "</tr>\n",
       "<tr>\n",
       "  <th>x2</th>        <td>-0.4037</td>  <td>0.1802</td>  <td>-2.2399</td> <td>0.0251</td> <td>-0.7569</td> <td>-0.0505</td>\n",
       "</tr>\n",
       "</table>"
      ],
      "text/plain": [
       "<class 'statsmodels.iolib.summary2.Summary'>\n",
       "\"\"\"\n",
       "              Results: Generalized linear model\n",
       "=============================================================\n",
       "Model:              GLM              AIC:            22.2849 \n",
       "Link Function:      logit            BIC:            -34.6425\n",
       "Dependent Variable: y                Log-Likelihood: -8.1425 \n",
       "Date:               2021-03-24 23:12 LL-Null:        -13.763 \n",
       "No. Observations:   20               Deviance:       16.285  \n",
       "Df Model:           2                Pearson chi2:   15.2    \n",
       "Df Residuals:       17               Scale:          1.0000  \n",
       "Method:             IRLS                                     \n",
       "-------------------------------------------------------------\n",
       "               Coef.  Std.Err.    z    P>|z|   [0.025  0.975]\n",
       "-------------------------------------------------------------\n",
       "Intercept     -1.0196   3.1112 -0.3277 0.7431 -7.1174  5.0782\n",
       "x1             0.1437   0.0821  1.7501 0.0801 -0.0172  0.3046\n",
       "x2            -0.4037   0.1802 -2.2399 0.0251 -0.7569 -0.0505\n",
       "=============================================================\n",
       "\n",
       "\"\"\""
      ]
     },
     "execution_count": 12,
     "metadata": {},
     "output_type": "execute_result"
    }
   ],
   "source": [
    "LogModel = smf.glm(formula = 'y ~ x1 + x2', family = families.Binomial(), data = MyData).fit()\n",
    "LogModel.summary2()"
   ]
  },
  {
   "cell_type": "code",
   "execution_count": 8,
   "metadata": {},
   "outputs": [
    {
     "data": {
      "text/plain": [
       "array([ 0.62529254,  1.20261815,  0.42567999,  0.33413809,  0.74971821,\n",
       "        0.66988357,  0.41077422, -0.18386207,  0.37452872,  0.34301106,\n",
       "        0.78682074,  0.20133479,  0.92198569,  0.66328315,  1.01782008,\n",
       "        0.50311059,  0.288459  ,  0.83478695,  0.11183471,  0.71878184])"
      ]
     },
     "execution_count": 8,
     "metadata": {},
     "output_type": "execute_result"
    }
   ],
   "source": [
    "LinModel.predict()"
   ]
  },
  {
   "cell_type": "code",
   "execution_count": 11,
   "metadata": {},
   "outputs": [
    {
     "data": {
      "text/plain": [
       "0.8"
      ]
     },
     "execution_count": 11,
     "metadata": {},
     "output_type": "execute_result"
    }
   ],
   "source": [
    "np.mean(MyData['y']== np.round(LinModel.predict()))"
   ]
  },
  {
   "cell_type": "code",
   "execution_count": 13,
   "metadata": {},
   "outputs": [
    {
     "data": {
      "text/plain": [
       "0.85"
      ]
     },
     "execution_count": 13,
     "metadata": {},
     "output_type": "execute_result"
    }
   ],
   "source": [
    "np.mean(MyData['y']== np.round(LogModel.predict()))"
   ]
  },
  {
   "cell_type": "code",
   "execution_count": null,
   "metadata": {},
   "outputs": [],
   "source": []
  }
 ],
 "metadata": {
  "kernelspec": {
   "display_name": "Python 3",
   "language": "python",
   "name": "python3"
  },
  "language_info": {
   "codemirror_mode": {
    "name": "ipython",
    "version": 3
   },
   "file_extension": ".py",
   "mimetype": "text/x-python",
   "name": "python",
   "nbconvert_exporter": "python",
   "pygments_lexer": "ipython3",
   "version": "3.8.5"
  }
 },
 "nbformat": 4,
 "nbformat_minor": 4
}
